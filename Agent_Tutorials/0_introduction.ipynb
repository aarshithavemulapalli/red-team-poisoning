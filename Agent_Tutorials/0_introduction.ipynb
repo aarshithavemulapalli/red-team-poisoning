{
    "cells": [
     {
      "cell_type": "markdown",
      "metadata": {},
      "source": [
       "# Introduction to the agents\n",
       "\n",
       "Let's begin the tutorial by exploring various examples of LLM agents. While the topic is widely discussed, few are actively utilizing agents; often, what we perceive as agents are simply large language models. We'll delve into interactive examples to understand the essence of agents, dissect their components, and learn how to create them from scratch."
      ]
     },
     {
      "cell_type": "markdown",
      "metadata": {},
      "source": [
       "### Simple task: parsing a website\n",
       "\n",
       "*\"Parse the results of recent Premier League football matches and save them as csv\".*\n",
       "\n",
       "Let's compare:\n",
       "- [ChatGPT 4](https://chat.openai.com/share/2ecd61a9-dbd9-4287-aa75-14618106a34c)\n",
       "- [AutoGPT](https://github.com/Significant-Gravitas/AutoGPT) (https://evo.ninja/)\n",
       "- [AgentGPT](https://agentgpt.reworkd.ai/)"
      ]
     },
     {
      "cell_type": "markdown",
      "metadata": {},
      "source": [
       "# From RAG to Agents\n",
       "\n",
       "![images/Screenshot 2024-02-21 at 13.03.28.png](<images/Screenshot 2024-02-21 at 13.03.28.png>)\n",
       "\n",
       "For those who have experience with large language models, particularly RAG applications (Retrieval Augmented Generation), here's a quick recap:\n",
       "\n",
       "- Pure language models excel at text generation and question answering by predicting tokens\n",
       "- RAG extends this capability by incorporating external knowledge sources\n",
       "- It retrieves relevant context before generating text, enabling applications like support systems and question answering to operate effectively\n",
       "\n",
       "What's being added additionally to the RAG model to create an agent?:\n",
       "\n",
       "- Amazing [Lilian's blog article](https://lilianweng.github.io/posts/2023-06-23-agent/)\n",
       "    - Component One: Planning\n",
       "    -   Task Decomposition\n",
       "    -   Self-Reflection\n",
       "    - Component Two: Memory\n",
       "        - Types of Memory\n",
       "        - Maximum Inner Product Search (MIPS)\n",
       "    - Component Three: Tool Use\n",
       "\n",
       "- Adapted from the following tutorial (https://github.com/Rachnog/intro_to_llm_agents)"
      ]
     }
    ],
    "metadata": {
     "language_info": {
      "name": "python"
     }
    },
    "nbformat": 4,
    "nbformat_minor": 2
   }
   